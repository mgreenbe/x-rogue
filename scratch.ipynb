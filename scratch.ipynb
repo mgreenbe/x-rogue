{
 "cells": [
  {
   "cell_type": "code",
   "execution_count": 2,
   "metadata": {},
   "outputs": [],
   "source": [
    "import numpy as np\n",
    "import pandas as pd\n",
    "from dataclasses import dataclass, field\n",
    "from typing import Any\n",
    "from queue import PriorityQueue\n",
    "import numpy.ma as ma\n",
    "from collections import namedtuple"
   ]
  },
  {
   "cell_type": "code",
   "execution_count": 77,
   "metadata": {},
   "outputs": [],
   "source": [
    "monster_t = np.dtype(\n",
    "    [\n",
    "        (\"id\", int),\n",
    "        (\"name\", np.bytes_, 20),\n",
    "        (\"symbol\", np.byte),\n",
    "        (\"exp_level\", int),\n",
    "        (\"exp_points\", int),\n",
    "        (\"damage\", int),\n",
    "        (\"armor_class\", int),\n",
    "        (\"pos\", int, (2,)),\n",
    "        (\"hp\", int),\n",
    "        (\"max_hp\", int),\n",
    "        (\"is_asleep\", bool),\n",
    "    ]\n",
    ")\n"
   ]
  },
  {
   "cell_type": "code",
   "execution_count": 78,
   "metadata": {},
   "outputs": [],
   "source": [
    "MonsterType = namedtuple(\"monster_type\", [\"name\", \"symbol\", \"exp_level\", \"exp_points\", \"armor_class\", \"damage\"])\n",
    "monster_types = (\n",
    "    MonsterType(name=\"kestrel\", symbol=ord(\"K\"), exp_level=1, exp_points=2, armor_class=7, damage=4),\n",
    "    MonsterType(name=\"emu\", symbol=ord(\"E\"), exp_level=1, exp_points=2, armor_class=7, damage=2),\n",
    "    MonsterType(name=\"snake\", symbol=ord(\"S\"), exp_level=1, exp_points=2, armor_class=5, damage=3),\n",
    "    MonsterType(name=\"bat\", symbol=ord(\"B\"), exp_level=1, exp_points=2, armor_class=3, damage=2),\n",
    "    MonsterType(name=\"hobgoblin\", symbol=ord(\"H\"), exp_level=1, exp_points=3, armor_class=5, damage=8),\n",
    "    MonsterType(name=\"orc\", symbol=ord(\"O\"), exp_level=1, exp_points=5, armor_class=6, damage=8),\n",
    "    MonsterType(name=\"zombie\", symbol=ord(\"Z\"), exp_level=2, exp_points=8, armor_class=8, damage=8),\n",
    ")\n"
   ]
  },
  {
   "cell_type": "code",
   "execution_count": 218,
   "metadata": {},
   "outputs": [],
   "source": [
    "# \"name, symbol, exp_level, exp_points, armor_class, damage\"\n",
    "# fmt: off\n",
    "_monster_types = (\n",
    "    (\"kestrel  \", ord(\"K\"), 1, 2, 7, 4),\n",
    "    (\"emu\",       ord(\"E\"), 1, 2, 7, 2),\n",
    "    (\"snake\",     ord(\"S\"), 1, 2, 5, 3),\n",
    "    (\"bat\",       ord(\"B\"), 1, 2, 3, 2),\n",
    "    (\"hobgoblin\", ord(\"H\"), 1, 3, 5, 8),\n",
    "    (\"orc\",       ord(\"O\"), 1, 5, 6, 8),\n",
    "    (\"zombie\",    ord(\"Z\"), 2, 8, 8, 8),\n",
    ")\n",
    "# fmt: on\n",
    "\n",
    "rng = np.random.default_rng()  # move to globals\n",
    "monster_type = rng.choice(_monster_types)\n"
   ]
  },
  {
   "cell_type": "code",
   "execution_count": 219,
   "metadata": {},
   "outputs": [
    {
     "data": {
      "text/plain": [
       "array(['zombie', '90', '2', '8', '8', '8'], dtype='<U21')"
      ]
     },
     "execution_count": 219,
     "metadata": {},
     "output_type": "execute_result"
    }
   ],
   "source": [
    "monster_type"
   ]
  },
  {
   "cell_type": "code",
   "execution_count": 229,
   "metadata": {},
   "outputs": [],
   "source": [
    "_monster_type_dtype = np.dtype(\n",
    "    [\n",
    "        (\"name\", \"S20\"),\n",
    "        (\"symbol\", int),\n",
    "        (\"exp_level\", int),\n",
    "        (\"exp_points\", int),\n",
    "        (\"damage\", int),\n",
    "        (\"armor_class\", int),\n",
    "    ]\n",
    ")\n",
    "\n",
    "points = np.array(\n",
    "    [\n",
    "        (\"kestrel\", ord(\"K\"), 1, 2, 7, 4),\n",
    "        (\"emu\", ord(\"E\"), 1, 2, 7, 2),\n",
    "        (\"snake\", ord(\"S\"), 1, 2, 5, 3),\n",
    "        (\"bat\", ord(\"B\"), 1, 2, 3, 2),\n",
    "        (\"hobgoblin\", ord(\"H\"), 1, 3, 5, 8),\n",
    "        (\"orc\", ord(\"O\"), 1, 5, 6, 8),\n",
    "        (\"zombie\", ord(\"Z\"), 2, 8, 8, 8),\n",
    "    ],\n",
    "    dtype=_monster_type_dtype,\n",
    ")"
   ]
  },
  {
   "cell_type": "code",
   "execution_count": 275,
   "metadata": {},
   "outputs": [
    {
     "data": {
      "text/plain": [
       "(np.void((b'bat', 66, 1, 2, 3, 2), dtype=[('name', 'S20'), ('symbol', '<i8'), ('exp_level', '<i8'), ('exp_points', '<i8'), ('damage', '<i8'), ('armor_class', '<i8')]),\n",
       " np.int64(1))"
      ]
     },
     "execution_count": 275,
     "metadata": {},
     "output_type": "execute_result"
    }
   ],
   "source": [
    "_monster_type_dtype = np.dtype(\n",
    "    [\n",
    "        (\"name\", \"S20\"),\n",
    "        (\"symbol\", int),\n",
    "        (\"exp_level\", int),\n",
    "        (\"exp_points\", int),\n",
    "        (\"damage\", int),\n",
    "        (\"armor_class\", int),\n",
    "    ]\n",
    ")\n",
    "\n",
    "_monster_types = np.array(\n",
    "    [\n",
    "        (\"kestrel\", ord(\"K\"), 1, 2, 7, 4),\n",
    "        (\"emu\", ord(\"E\"), 1, 2, 7, 2),\n",
    "        (\"snake\", ord(\"S\"), 1, 2, 5, 3),\n",
    "        (\"bat\", ord(\"B\"), 1, 2, 3, 2),\n",
    "        (\"hobgoblin\", ord(\"H\"), 1, 3, 5, 8),\n",
    "        (\"orc\", ord(\"O\"), 1, 5, 6, 8),\n",
    "        (\"zombie\", ord(\"Z\"), 2, 8, 8, 8),\n",
    "    ],\n",
    "    dtype=_monster_type_dtype,\n",
    ")\n",
    "\n",
    "rng = np.random.default_rng()  # move to globals\n",
    "monster_type = rng.choice(_monster_types)\n",
    "exp_level = monster_type[\"exp_level\"]\n",
    "monster_type, exp_level"
   ]
  },
  {
   "cell_type": "code",
   "execution_count": 283,
   "metadata": {},
   "outputs": [],
   "source": [
    "_MAX_MONTERS = 100\n",
    "\n",
    "_monster_dtype = np.dtype(\n",
    "    [\n",
    "        (\"name\", \"S20\"),\n",
    "        (\"symbol\", int),\n",
    "        (\"exp_level\", int),\n",
    "        (\"exp_points\", int),\n",
    "        (\"damage\", int),\n",
    "        (\"armor_class\", int),\n",
    "        (\"pos\", int, (2,)),\n",
    "        (\"hp\", int),\n",
    "        (\"max_hp\", int),\n",
    "        (\"is_asleep\", bool),\n",
    "    ]\n",
    ")\n",
    "\n",
    "_monster_type_dtype = np.dtype(\n",
    "    [\n",
    "        (\"name\", \"S20\"),\n",
    "        (\"symbol\", int),\n",
    "        (\"exp_level\", int),\n",
    "        (\"exp_points\", int),\n",
    "        (\"damage\", int),\n",
    "        (\"armor_class\", int),\n",
    "    ]\n",
    ")\n",
    "\n",
    "# fmt: off\n",
    "_monster_types = np.array(\n",
    "    [\n",
    "    #    name,        symbol,   exp_level, exp_points, armor_class, damage\n",
    "        (\"kestrel\",   ord(\"K\"), 1,         2,          7,           4),\n",
    "        (\"emu\",       ord(\"E\"), 1,         2,          7,           2),\n",
    "        (\"snake\",     ord(\"S\"), 1,         2,          5,           3),\n",
    "        (\"bat\",       ord(\"B\"), 1,         2,          3,           2),\n",
    "        (\"hobgoblin\", ord(\"H\"), 1,         3,          5,           8),\n",
    "        (\"orc\",       ord(\"O\"), 1,         5,          6,           8),\n",
    "        (\"zombie\",    ord(\"Z\"), 2,         8,          8,           8),\n",
    "    ],\n",
    "    dtype=_monster_type_dtype\n",
    ")\n",
    "# fmt: on\n",
    "\n",
    "monsters = ma.masked_all(_MAX_MONTERS, dtype=_monster_dtype)\n",
    "\n",
    "\n",
    "def _get_first_masked_row_index():\n",
    "    i = monsters.mask[\"name\"].argmax()\n",
    "    return i if monsters.mask[\"name\"][i] else _MAX_MONTERS\n",
    "\n",
    "\n",
    "def reset_monsters(n: int):\n",
    "    monsters[:] = ma.masked\n",
    "    for i in range(n):\n",
    "        monster_type = rng.choice(_monster_types)\n",
    "        exp_level = monster_type[\"exp_level\"]\n",
    "        hp = rng.integers(1, 9, size=exp_level).sum()\n",
    "        max_hp = hp\n",
    "        monster = (*monster_type, (0, 0), hp, max_hp, True)\n",
    "        monsters[i] = monster\n"
   ]
  },
  {
   "cell_type": "code",
   "execution_count": 49,
   "metadata": {},
   "outputs": [
    {
     "name": "stdout",
     "output_type": "stream",
     "text": [
      "0 1 2 3\n"
     ]
    }
   ],
   "source": [
    "from enum import IntEnum\n",
    "import numpy as np\n",
    "import numpy.ma as ma\n",
    "\n",
    "item_dtype = np.dtype(\n",
    "    [\n",
    "        (\"item_type\", int),\n",
    "        (\"symbol\", int),\n",
    "        (\"gold\", int),\n",
    "        (\"pos\", int)\n",
    "    ]\n",
    ")\n",
    "\n",
    "I = IntEnum(\"Item\", [\"ARMOR\", \"WEAPON\", \"SCROLL\", \"POTION\", \"GOLD\", \"FOOD\"])\n",
    "\n",
    "class ICOL(IntEnum):\n",
    "    TYPE = 0\n",
    "    SYMBOL = 1\n",
    "    GOLD = 2\n",
    "    POS = 3\n",
    "\n",
    "print(ICOL.TYPE, ICOL.SYMBOL, ICOL.GOLD, ICOL.POS)"
   ]
  },
  {
   "cell_type": "code",
   "execution_count": 51,
   "metadata": {},
   "outputs": [
    {
     "data": {
      "text/plain": [
       "masked_array(\n",
       "  data=[[5, 42, 20, 299],\n",
       "        [5, 42, 61, 3902],\n",
       "        [5, 42, 40, 2117],\n",
       "        [5, 42, 25, 4930],\n",
       "        [5, 42, 52, 2838],\n",
       "        [5, 42, 65, 4671],\n",
       "        [5, 42, 69, 1071],\n",
       "        [5, 42, 46, 4630],\n",
       "        [5, 42, 12, 3360],\n",
       "        [5, 42, 57, 1351],\n",
       "        [--, --, --, --],\n",
       "        [--, --, --, --],\n",
       "        [--, --, --, --],\n",
       "        [--, --, --, --],\n",
       "        [--, --, --, --],\n",
       "        [--, --, --, --],\n",
       "        [--, --, --, --],\n",
       "        [--, --, --, --],\n",
       "        [--, --, --, --],\n",
       "        [--, --, --, --],\n",
       "        [--, --, --, --],\n",
       "        [--, --, --, --],\n",
       "        [--, --, --, --],\n",
       "        [--, --, --, --],\n",
       "        [--, --, --, --],\n",
       "        [--, --, --, --],\n",
       "        [--, --, --, --],\n",
       "        [--, --, --, --],\n",
       "        [--, --, --, --],\n",
       "        [--, --, --, --],\n",
       "        [--, --, --, --],\n",
       "        [--, --, --, --],\n",
       "        [--, --, --, --],\n",
       "        [--, --, --, --],\n",
       "        [--, --, --, --],\n",
       "        [--, --, --, --],\n",
       "        [--, --, --, --],\n",
       "        [--, --, --, --],\n",
       "        [--, --, --, --],\n",
       "        [--, --, --, --],\n",
       "        [--, --, --, --],\n",
       "        [--, --, --, --],\n",
       "        [--, --, --, --],\n",
       "        [--, --, --, --],\n",
       "        [--, --, --, --],\n",
       "        [--, --, --, --],\n",
       "        [--, --, --, --],\n",
       "        [--, --, --, --],\n",
       "        [--, --, --, --],\n",
       "        [--, --, --, --],\n",
       "        [--, --, --, --],\n",
       "        [--, --, --, --],\n",
       "        [--, --, --, --],\n",
       "        [--, --, --, --],\n",
       "        [--, --, --, --],\n",
       "        [--, --, --, --],\n",
       "        [--, --, --, --],\n",
       "        [--, --, --, --],\n",
       "        [--, --, --, --],\n",
       "        [--, --, --, --],\n",
       "        [--, --, --, --],\n",
       "        [--, --, --, --],\n",
       "        [--, --, --, --],\n",
       "        [--, --, --, --],\n",
       "        [--, --, --, --],\n",
       "        [--, --, --, --],\n",
       "        [--, --, --, --],\n",
       "        [--, --, --, --],\n",
       "        [--, --, --, --],\n",
       "        [--, --, --, --],\n",
       "        [--, --, --, --],\n",
       "        [--, --, --, --],\n",
       "        [--, --, --, --],\n",
       "        [--, --, --, --],\n",
       "        [--, --, --, --],\n",
       "        [--, --, --, --],\n",
       "        [--, --, --, --],\n",
       "        [--, --, --, --],\n",
       "        [--, --, --, --],\n",
       "        [--, --, --, --],\n",
       "        [--, --, --, --],\n",
       "        [--, --, --, --],\n",
       "        [--, --, --, --],\n",
       "        [--, --, --, --],\n",
       "        [--, --, --, --],\n",
       "        [--, --, --, --],\n",
       "        [--, --, --, --],\n",
       "        [--, --, --, --],\n",
       "        [--, --, --, --],\n",
       "        [--, --, --, --],\n",
       "        [--, --, --, --],\n",
       "        [--, --, --, --],\n",
       "        [--, --, --, --],\n",
       "        [--, --, --, --],\n",
       "        [--, --, --, --],\n",
       "        [--, --, --, --],\n",
       "        [--, --, --, --],\n",
       "        [--, --, --, --],\n",
       "        [--, --, --, --],\n",
       "        [--, --, --, --]],\n",
       "  mask=[[False, False, False, False],\n",
       "        [False, False, False, False],\n",
       "        [False, False, False, False],\n",
       "        [False, False, False, False],\n",
       "        [False, False, False, False],\n",
       "        [False, False, False, False],\n",
       "        [False, False, False, False],\n",
       "        [False, False, False, False],\n",
       "        [False, False, False, False],\n",
       "        [False, False, False, False],\n",
       "        [ True,  True,  True,  True],\n",
       "        [ True,  True,  True,  True],\n",
       "        [ True,  True,  True,  True],\n",
       "        [ True,  True,  True,  True],\n",
       "        [ True,  True,  True,  True],\n",
       "        [ True,  True,  True,  True],\n",
       "        [ True,  True,  True,  True],\n",
       "        [ True,  True,  True,  True],\n",
       "        [ True,  True,  True,  True],\n",
       "        [ True,  True,  True,  True],\n",
       "        [ True,  True,  True,  True],\n",
       "        [ True,  True,  True,  True],\n",
       "        [ True,  True,  True,  True],\n",
       "        [ True,  True,  True,  True],\n",
       "        [ True,  True,  True,  True],\n",
       "        [ True,  True,  True,  True],\n",
       "        [ True,  True,  True,  True],\n",
       "        [ True,  True,  True,  True],\n",
       "        [ True,  True,  True,  True],\n",
       "        [ True,  True,  True,  True],\n",
       "        [ True,  True,  True,  True],\n",
       "        [ True,  True,  True,  True],\n",
       "        [ True,  True,  True,  True],\n",
       "        [ True,  True,  True,  True],\n",
       "        [ True,  True,  True,  True],\n",
       "        [ True,  True,  True,  True],\n",
       "        [ True,  True,  True,  True],\n",
       "        [ True,  True,  True,  True],\n",
       "        [ True,  True,  True,  True],\n",
       "        [ True,  True,  True,  True],\n",
       "        [ True,  True,  True,  True],\n",
       "        [ True,  True,  True,  True],\n",
       "        [ True,  True,  True,  True],\n",
       "        [ True,  True,  True,  True],\n",
       "        [ True,  True,  True,  True],\n",
       "        [ True,  True,  True,  True],\n",
       "        [ True,  True,  True,  True],\n",
       "        [ True,  True,  True,  True],\n",
       "        [ True,  True,  True,  True],\n",
       "        [ True,  True,  True,  True],\n",
       "        [ True,  True,  True,  True],\n",
       "        [ True,  True,  True,  True],\n",
       "        [ True,  True,  True,  True],\n",
       "        [ True,  True,  True,  True],\n",
       "        [ True,  True,  True,  True],\n",
       "        [ True,  True,  True,  True],\n",
       "        [ True,  True,  True,  True],\n",
       "        [ True,  True,  True,  True],\n",
       "        [ True,  True,  True,  True],\n",
       "        [ True,  True,  True,  True],\n",
       "        [ True,  True,  True,  True],\n",
       "        [ True,  True,  True,  True],\n",
       "        [ True,  True,  True,  True],\n",
       "        [ True,  True,  True,  True],\n",
       "        [ True,  True,  True,  True],\n",
       "        [ True,  True,  True,  True],\n",
       "        [ True,  True,  True,  True],\n",
       "        [ True,  True,  True,  True],\n",
       "        [ True,  True,  True,  True],\n",
       "        [ True,  True,  True,  True],\n",
       "        [ True,  True,  True,  True],\n",
       "        [ True,  True,  True,  True],\n",
       "        [ True,  True,  True,  True],\n",
       "        [ True,  True,  True,  True],\n",
       "        [ True,  True,  True,  True],\n",
       "        [ True,  True,  True,  True],\n",
       "        [ True,  True,  True,  True],\n",
       "        [ True,  True,  True,  True],\n",
       "        [ True,  True,  True,  True],\n",
       "        [ True,  True,  True,  True],\n",
       "        [ True,  True,  True,  True],\n",
       "        [ True,  True,  True,  True],\n",
       "        [ True,  True,  True,  True],\n",
       "        [ True,  True,  True,  True],\n",
       "        [ True,  True,  True,  True],\n",
       "        [ True,  True,  True,  True],\n",
       "        [ True,  True,  True,  True],\n",
       "        [ True,  True,  True,  True],\n",
       "        [ True,  True,  True,  True],\n",
       "        [ True,  True,  True,  True],\n",
       "        [ True,  True,  True,  True],\n",
       "        [ True,  True,  True,  True],\n",
       "        [ True,  True,  True,  True],\n",
       "        [ True,  True,  True,  True],\n",
       "        [ True,  True,  True,  True],\n",
       "        [ True,  True,  True,  True],\n",
       "        [ True,  True,  True,  True],\n",
       "        [ True,  True,  True,  True],\n",
       "        [ True,  True,  True,  True],\n",
       "        [ True,  True,  True,  True]],\n",
       "  fill_value=999999)"
      ]
     },
     "execution_count": 51,
     "metadata": {},
     "output_type": "execute_result"
    }
   ],
   "source": [
    "items = ma.masked_all((100, 4), dtype=int)\n",
    "\n",
    "rng = np.random.default_rng()\n",
    "\n",
    "items[:] = ma.masked\n",
    "n = 10\n",
    "items[:n, ICOL.TYPE] = I.GOLD\n",
    "items[:n, ICOL.SYMBOL] = ord(\"*\")\n",
    "items[:n, ICOL.GOLD] = rng.integers(10, 100, size=n)\n",
    "items[:n, ICOL.POS] = (rng.integers(23, size=n) << 8) + rng.integers(\n",
    "    80, size=n\n",
    ")\n",
    "items"
   ]
  },
  {
   "cell_type": "code",
   "execution_count": 52,
   "metadata": {},
   "outputs": [
    {
     "data": {
      "text/plain": [
       "4"
      ]
     },
     "execution_count": 52,
     "metadata": {},
     "output_type": "execute_result"
    }
   ],
   "source": [
    "len(ICOL)"
   ]
  },
  {
   "cell_type": "code",
   "execution_count": 356,
   "metadata": {},
   "outputs": [],
   "source": [
    "entities = ma.array(rng.integers(10, size=(4, 4)))\n",
    "entities[0, :] = ma.masked\n",
    "entities[3, :] = ma.masked\n",
    "entities[:, 0] = ma.masked\n",
    "entities[:, 3] = ma.masked\n",
    "# entities = (entities > 5)*entities\n",
    "mapped = np.full_like(entities, fill_value=11)\n",
    "mapped[0,0] = 0\n",
    "mapped[3,3] = 0\n",
    "# visible = np.zeros_like(entities)\n",
    "# visible[1:3,1:3] = 1\n",
    "# np.where(entities*visible, entities, mapped)"
   ]
  },
  {
   "cell_type": "code",
   "execution_count": 53,
   "metadata": {},
   "outputs": [
    {
     "data": {
      "text/plain": [
       "2"
      ]
     },
     "execution_count": 53,
     "metadata": {},
     "output_type": "execute_result"
    }
   ],
   "source": [
    "1 + True"
   ]
  },
  {
   "cell_type": "code",
   "execution_count": 14,
   "metadata": {},
   "outputs": [
    {
     "name": "stdout",
     "output_type": "stream",
     "text": [
      "<class 'pandas.core.frame.DataFrame'>\n",
      "RangeIndex: 3 entries, 0 to 2\n",
      "Data columns (total 2 columns):\n",
      " #   Column  Non-Null Count  Dtype \n",
      "---  ------  --------------  ----- \n",
      " 0   a       3 non-null      object\n",
      " 1   b       2 non-null      object\n",
      "dtypes: object(2)\n",
      "memory usage: 180.0+ bytes\n"
     ]
    }
   ],
   "source": [
    "df = pd.DataFrame({\"a\": [(1,1),(2,2),(3,3)], \"b\": [(5,6), (6,7), (7,8)]})\n",
    "df.at[1, \"b\"] = pd.NA\n",
    "df.info()\n"
   ]
  },
  {
   "cell_type": "code",
   "execution_count": 54,
   "metadata": {},
   "outputs": [],
   "source": [
    "from queue import SimpleQueue\n",
    "\n",
    "    "
   ]
  },
  {
   "cell_type": "code",
   "execution_count": 58,
   "metadata": {},
   "outputs": [
    {
     "name": "stdout",
     "output_type": "stream",
     "text": [
      "3\n",
      "2\n"
     ]
    },
    {
     "data": {
      "text/plain": [
       "True"
      ]
     },
     "execution_count": 58,
     "metadata": {},
     "output_type": "execute_result"
    }
   ],
   "source": [
    "messages = SimpleQueue()\n",
    "messages.put(3)\n",
    "messages.put(2)\n",
    "while messages.qsize() > 0:\n",
    "    x = messages.get()\n",
    "    print(x)\n",
    "messages.empty()"
   ]
  },
  {
   "cell_type": "code",
   "execution_count": 59,
   "metadata": {},
   "outputs": [],
   "source": [
    "class ICOL(IntEnum):\n",
    "    TYPE = 0\n",
    "    SYMBOL = 1\n",
    "    GOLD = 2\n",
    "    POS = 3\n"
   ]
  },
  {
   "cell_type": "code",
   "execution_count": 66,
   "metadata": {},
   "outputs": [],
   "source": [
    "from enum import StrEnum, auto\n",
    "class Color(StrEnum):\n",
    "    RED = auto()\n",
    "    GREEN = auto()\n",
    "    BLUE = auto()"
   ]
  },
  {
   "cell_type": "code",
   "execution_count": 91,
   "metadata": {},
   "outputs": [],
   "source": [
    "potions = np.array([\n",
    "    \"blindness\",\n",
    "    \"confusion\",\n",
    "    \"extra healing\",\n",
    "    \"gain strength\" \"hallucination\",\n",
    "    \"haste self\",\n",
    "    \"healing\",\n",
    "    \"magic detection\",\n",
    "    \"monster detection\",\n",
    "    \"paralysis\",\n",
    "    \"poison\",\n",
    "    \"raise level\",\n",
    "    \"restore strength\",\n",
    "    \"see invisible\",\n",
    "    \"thirst quenching\",\n",
    "])\n",
    "\n",
    "colors = np.array([\n",
    "    \"amber\",\n",
    "    \"aquamarine\",\n",
    "    \"black\",\n",
    "    \"blue\",\n",
    "    \"brown\",\n",
    "    \"clear\",\n",
    "    \"crimson\",\n",
    "    \"cyan\",\n",
    "    \"ecru\",\n",
    "    \"gold\",\n",
    "    \"green\",\n",
    "    \"grey\",\n",
    "    \"magenta\",\n",
    "    \"orange\",\n",
    "    \"pink\",\n",
    "    \"plaid\",\n",
    "    \"purple\",\n",
    "    \"red\",\n",
    "    \"silver\",\n",
    "    \"tan\",\n",
    "    \"tangerine\",\n",
    "    \"topaz\",\n",
    "    \"turquoise\",\n",
    "    \"vermilion\",\n",
    "    \"violet\",\n",
    "    \"white\",\n",
    "    \"yellow\",\n",
    "])"
   ]
  },
  {
   "cell_type": "code",
   "execution_count": 104,
   "metadata": {},
   "outputs": [
    {
     "data": {
      "text/plain": [
       "array([10, 15])"
      ]
     },
     "execution_count": 104,
     "metadata": {},
     "output_type": "execute_result"
    }
   ],
   "source": [
    "A = np.arange(16).reshape(4, 4)\n",
    "A[A[:,0] > 5, [2, 3]]"
   ]
  },
  {
   "cell_type": "code",
   "execution_count": 103,
   "metadata": {},
   "outputs": [
    {
     "data": {
      "text/plain": [
       "array([False, False,  True,  True])"
      ]
     },
     "execution_count": 103,
     "metadata": {},
     "output_type": "execute_result"
    }
   ],
   "source": [
    "S = {(y << 8) + x for y in range(23) for x in range(1, 79)}"
   ]
  },
  {
   "cell_type": "code",
   "execution_count": 102,
   "metadata": {},
   "outputs": [
    {
     "data": {
      "text/plain": [
       "array([[ 0,  1,  2,  3],\n",
       "       [ 4,  5,  6,  7],\n",
       "       [ 8,  9, 10, 11],\n",
       "       [12, 13, 14, 15]])"
      ]
     },
     "execution_count": 102,
     "metadata": {},
     "output_type": "execute_result"
    }
   ],
   "source": [
    "A   "
   ]
  },
  {
   "cell_type": "code",
   "execution_count": null,
   "metadata": {},
   "outputs": [],
   "source": []
  }
 ],
 "metadata": {
  "kernelspec": {
   "display_name": ".venv",
   "language": "python",
   "name": "python3"
  },
  "language_info": {
   "codemirror_mode": {
    "name": "ipython",
    "version": 3
   },
   "file_extension": ".py",
   "mimetype": "text/x-python",
   "name": "python",
   "nbconvert_exporter": "python",
   "pygments_lexer": "ipython3",
   "version": "3.12.3"
  }
 },
 "nbformat": 4,
 "nbformat_minor": 2
}
